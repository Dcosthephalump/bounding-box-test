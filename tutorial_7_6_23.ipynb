{
 "cells": [
  {
   "cell_type": "code",
   "execution_count": 1,
   "id": "17145e7b-e4cb-4623-8add-6aa9f9907af9",
   "metadata": {
    "tags": []
   },
   "outputs": [],
   "source": [
    "import ipywidgets as widgets"
   ]
  },
  {
   "cell_type": "code",
   "execution_count": 10,
   "id": "112b70c2-ea75-440d-b7ea-6363d908c6ec",
   "metadata": {
    "tags": []
   },
   "outputs": [
    {
     "data": {
      "application/vnd.jupyter.widget-view+json": {
       "model_id": "1ce256c3436f45c7a58742a2d2749065",
       "version_major": 2,
       "version_minor": 0
      },
      "text/plain": [
       "Tab(children=(Button(button_style='success', description='Number 1', style=ButtonStyle()), Button(button_style…"
      ]
     },
     "execution_count": 10,
     "metadata": {},
     "output_type": "execute_result"
    }
   ],
   "source": [
    "button1 = widgets.Button(button_style = 'success', description = 'Number 1')\n",
    "button2 = widgets.Button(button_style = 'success', description = 'Number 2')\n",
    "button3 = widgets.Button(button_style = 'success', description = 'Number 3')\n",
    "\n",
    "tabs = widgets.Tab(children = (button1, button2, button3))\n",
    "tabs.titles = ('Tab 1', 'Tab 2', 'Tab 3')\n",
    "tabs"
   ]
  },
  {
   "cell_type": "code",
   "execution_count": 29,
   "id": "bbdc0088-ae38-4b4c-9cf8-35fbbc3b81f7",
   "metadata": {
    "tags": []
   },
   "outputs": [],
   "source": [
    "class Main(widgets.Tab):\n",
    "    \n",
    "    \n",
    "    ## Object oriented approach, inheriting Tab class\n",
    "    def __init__(self):\n",
    "        super().__init__()\n",
    "        \n",
    "        self.button1 = widgets.Button(button_style = 'success', description = 'Self Number 1')\n",
    "        self.button2 = widgets.Button(button_style = 'success', description = 'Self Number 2')\n",
    "        self.button3 = widgets.Button(button_style = 'success', description = 'Self Number 3')\n",
    "        \n",
    "        self.children = (self.button1, self.button2, self.button3)"
   ]
  },
  {
   "cell_type": "code",
   "execution_count": 30,
   "id": "5b2db388-dd37-4ad6-b4f1-0af15f4b7daf",
   "metadata": {
    "tags": []
   },
   "outputs": [],
   "source": [
    "tab2 = Main()"
   ]
  },
  {
   "cell_type": "code",
   "execution_count": 31,
   "id": "f79ee7c0-ccff-4dc7-bd5a-c1f4881211f3",
   "metadata": {
    "tags": []
   },
   "outputs": [
    {
     "data": {
      "application/vnd.jupyter.widget-view+json": {
       "model_id": "4484e5ca7e454c00993b11173ed8cd10",
       "version_major": 2,
       "version_minor": 0
      },
      "text/plain": [
       "Main(children=(Button(button_style='success', description='Self Number 1', style=ButtonStyle()), Button(button…"
      ]
     },
     "execution_count": 31,
     "metadata": {},
     "output_type": "execute_result"
    }
   ],
   "source": [
    "tab2"
   ]
  },
  {
   "cell_type": "code",
   "execution_count": null,
   "id": "a40181dd-57a3-4ae0-8ffa-42e28b110489",
   "metadata": {},
   "outputs": [],
   "source": []
  }
 ],
 "metadata": {
  "kernelspec": {
   "display_name": "Python 3 (ipykernel)",
   "language": "python",
   "name": "python3"
  },
  "language_info": {
   "codemirror_mode": {
    "name": "ipython",
    "version": 3
   },
   "file_extension": ".py",
   "mimetype": "text/x-python",
   "name": "python",
   "nbconvert_exporter": "python",
   "pygments_lexer": "ipython3",
   "version": "3.11.4"
  }
 },
 "nbformat": 4,
 "nbformat_minor": 5
}
